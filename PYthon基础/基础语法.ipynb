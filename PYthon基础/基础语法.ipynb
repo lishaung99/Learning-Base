{
 "cells": [
  {
   "cell_type": "code",
   "execution_count": 2,
   "metadata": {},
   "outputs": [
    {
     "name": "stdout",
     "output_type": "stream",
     "text": [
      "runoob\n"
     ]
    },
    {
     "data": {
      "text/plain": [
       "7"
      ]
     },
     "execution_count": 2,
     "metadata": {},
     "output_type": "execute_result"
    }
   ],
   "source": [
    "#!/usr/bin/python3\n",
    "import sys; \n",
    "x = 'runoob';sys.stdout.write(x + '\\n')"
   ]
  },
  {
   "cell_type": "code",
   "execution_count": 4,
   "metadata": {},
   "outputs": [
    {
     "name": "stdout",
     "output_type": "stream",
     "text": [
      "================Python import mode==========================\n",
      "命令行参数为:\n",
      "C:\\Users\\carbi\\AppData\\Roaming\\Python\\Python311\\site-packages\\ipykernel_launcher.py\n",
      "--ip=127.0.0.1\n",
      "--stdin=9008\n",
      "--control=9006\n",
      "--hb=9005\n",
      "--Session.signature_scheme=\"hmac-sha256\"\n",
      "--Session.key=b\"101c6f47-5871-41ce-8f88-3741dd306a4b\"\n",
      "--shell=9007\n",
      "--transport=\"tcp\"\n",
      "--iopub=9009\n",
      "--f=c:\\Users\\carbi\\AppData\\Roaming\\jupyter\\runtime\\kernel-v2-228520CbPLUuWPbpS.json\n",
      "\n",
      " python 路径为 ['d:\\\\LearningPro\\\\Practice\\\\python', 'c:\\\\Users\\\\carbi\\\\anaconda3\\\\python311.zip', 'c:\\\\Users\\\\carbi\\\\anaconda3\\\\DLLs', 'c:\\\\Users\\\\carbi\\\\anaconda3\\\\Lib', 'c:\\\\Users\\\\carbi\\\\anaconda3', '', 'C:\\\\Users\\\\carbi\\\\AppData\\\\Roaming\\\\Python\\\\Python311\\\\site-packages', 'C:\\\\Users\\\\carbi\\\\AppData\\\\Roaming\\\\Python\\\\Python311\\\\site-packages\\\\win32', 'C:\\\\Users\\\\carbi\\\\AppData\\\\Roaming\\\\Python\\\\Python311\\\\site-packages\\\\win32\\\\lib', 'C:\\\\Users\\\\carbi\\\\AppData\\\\Roaming\\\\Python\\\\Python311\\\\site-packages\\\\Pythonwin', 'c:\\\\Users\\\\carbi\\\\anaconda3\\\\Lib\\\\site-packages', 'c:\\\\Users\\\\carbi\\\\anaconda3\\\\Lib\\\\site-packages\\\\win32', 'c:\\\\Users\\\\carbi\\\\anaconda3\\\\Lib\\\\site-packages\\\\win32\\\\lib', 'c:\\\\Users\\\\carbi\\\\anaconda3\\\\Lib\\\\site-packages\\\\Pythonwin']\n"
     ]
    }
   ],
   "source": [
    "import sys\n",
    "print('================Python import mode==========================')\n",
    "print ('命令行参数为:')\n",
    "for i in sys.argv:\n",
    "    print (i)\n",
    "print ('\\n python 路径为',sys.path)"
   ]
  },
  {
   "cell_type": "code",
   "execution_count": 5,
   "metadata": {},
   "outputs": [
    {
     "name": "stdout",
     "output_type": "stream",
     "text": [
      "================Python import mode==========================\n",
      "命令行参数为:\n",
      "C:\\Users\\carbi\\AppData\\Roaming\\Python\\Python311\\site-packages\\ipykernel_launcher.py\n",
      "--ip=127.0.0.1\n",
      "--stdin=9008\n",
      "--control=9006\n",
      "--hb=9005\n",
      "--Session.signature_scheme=\"hmac-sha256\"\n",
      "--Session.key=b\"101c6f47-5871-41ce-8f88-3741dd306a4b\"\n",
      "--shell=9007\n",
      "--transport=\"tcp\"\n",
      "--iopub=9009\n",
      "--f=c:\\Users\\carbi\\AppData\\Roaming\\jupyter\\runtime\\kernel-v2-228520CbPLUuWPbpS.json\n",
      "\n",
      " python 路径为 ['d:\\\\LearningPro\\\\Practice\\\\python', 'c:\\\\Users\\\\carbi\\\\anaconda3\\\\python311.zip', 'c:\\\\Users\\\\carbi\\\\anaconda3\\\\DLLs', 'c:\\\\Users\\\\carbi\\\\anaconda3\\\\Lib', 'c:\\\\Users\\\\carbi\\\\anaconda3', '', 'C:\\\\Users\\\\carbi\\\\AppData\\\\Roaming\\\\Python\\\\Python311\\\\site-packages', 'C:\\\\Users\\\\carbi\\\\AppData\\\\Roaming\\\\Python\\\\Python311\\\\site-packages\\\\win32', 'C:\\\\Users\\\\carbi\\\\AppData\\\\Roaming\\\\Python\\\\Python311\\\\site-packages\\\\win32\\\\lib', 'C:\\\\Users\\\\carbi\\\\AppData\\\\Roaming\\\\Python\\\\Python311\\\\site-packages\\\\Pythonwin', 'c:\\\\Users\\\\carbi\\\\anaconda3\\\\Lib\\\\site-packages', 'c:\\\\Users\\\\carbi\\\\anaconda3\\\\Lib\\\\site-packages\\\\win32', 'c:\\\\Users\\\\carbi\\\\anaconda3\\\\Lib\\\\site-packages\\\\win32\\\\lib', 'c:\\\\Users\\\\carbi\\\\anaconda3\\\\Lib\\\\site-packages\\\\Pythonwin']\n"
     ]
    }
   ],
   "source": [
    "from sys import argv,path\n",
    "print('================Python import mode==========================')\n",
    "print ('命令行参数为:')\n",
    "for i in argv:\n",
    "    print (i)\n",
    "print ('\\n python 路径为',path)"
   ]
  },
  {
   "cell_type": "code",
   "execution_count": 6,
   "metadata": {},
   "outputs": [
    {
     "name": "stdout",
     "output_type": "stream",
     "text": [
      "hello\n"
     ]
    }
   ],
   "source": [
    "#字符串\n",
    "a= 'hello'\n",
    "print(a)"
   ]
  },
  {
   "cell_type": "code",
   "execution_count": 101,
   "metadata": {},
   "outputs": [
    {
     "name": "stdout",
     "output_type": "stream",
     "text": [
      "2\n"
     ]
    }
   ],
   "source": [
    "a=2.1\n",
    "print(int(float(a)))\n",
    "#强制转换必须先加上原来的数据类型 eg：print(int(a))：这种写法错误"
   ]
  },
  {
   "cell_type": "code",
   "execution_count": 8,
   "metadata": {},
   "outputs": [
    {
     "name": "stdout",
     "output_type": "stream",
     "text": [
      "<class 'int'> <class 'float'> <class 'bool'> <class 'complex'>\n"
     ]
    }
   ],
   "source": [
    "a, b, c, d = 20, 5.5, True, 4+3j;print(type(a), type(b), type(c), type(d))\n",
    "#写在同一行需要用分号隔开，分行不需要"
   ]
  },
  {
   "cell_type": "code",
   "execution_count": 9,
   "metadata": {},
   "outputs": [
    {
     "data": {
      "text/plain": [
       "True"
      ]
     },
     "execution_count": 9,
     "metadata": {},
     "output_type": "execute_result"
    }
   ],
   "source": [
    "a = 111\n",
    "isinstance(a, int)\n",
    "#isinstance 判断是否为该类型"
   ]
  },
  {
   "cell_type": "code",
   "execution_count": 10,
   "metadata": {},
   "outputs": [
    {
     "data": {
      "text/plain": [
       "True"
      ]
     },
     "execution_count": 10,
     "metadata": {},
     "output_type": "execute_result"
    }
   ],
   "source": [
    "#Python3 中，bool 是 int 的子类，True 和 False 可以和数字相加， True==1、False==0 会返回 True，但可以通过 is 来判断类型。\n",
    "issubclass(bool, int) "
   ]
  },
  {
   "cell_type": "code",
   "execution_count": 11,
   "metadata": {},
   "outputs": [
    {
     "name": "stdout",
     "output_type": "stream",
     "text": [
      "Runoob\n",
      "Runoo\n",
      "R\n",
      "noo\n",
      "noob\n",
      "RunoobRunoob\n",
      "RunoobTEST\n"
     ]
    }
   ],
   "source": [
    "#!/usr/bin/python3\n",
    "#字符串实列\n",
    "\n",
    "a = 'Runoob'\n",
    "\n",
    "print (a)# 输出字符串\n",
    "print (a[0:-1])# 输出第一个到倒数第二个的所有字符\n",
    "print (a[0]) # 输出字符串第一个字符\n",
    "print (a[2:5]) # 输出从第三个开始到第五个的字符\n",
    "print (a[2:]) # 输出从第三个开始的后的所有字符\n",
    "print (a * 2)# 输出字符串两次，也可以写成 print (2 * str) \n",
    "print (a + \"TEST\") # 连接字符串"
   ]
  },
  {
   "cell_type": "code",
   "execution_count": 12,
   "metadata": {},
   "outputs": [
    {
     "name": "stdout",
     "output_type": "stream",
     "text": [
      "True\n",
      "False\n",
      "False\n",
      "False\n",
      "1\n",
      "0.0\n",
      "True\n"
     ]
    }
   ],
   "source": [
    "a = True\n",
    "b = False\n",
    "\n",
    "# 比较运算符\n",
    "print(2 < 3) \n",
    "print(2 == 3) \n",
    "\n",
    "# 逻辑运算符\n",
    "print(a and b)\n",
    "print(not a)\n",
    "\n",
    "# 类型转换\n",
    "print(int(a)) \n",
    "print(float(b)) \n",
    "print(str(a)) "
   ]
  },
  {
   "cell_type": "code",
   "execution_count": 13,
   "metadata": {},
   "outputs": [
    {
     "name": "stdout",
     "output_type": "stream",
     "text": [
      "['abcd', 786, 2.23, 'runoob', 70.2]\n",
      "abcd\n",
      "[786, 2.23]\n",
      "[2.23, 'runoob', 70.2]\n",
      "[123, 'runoob', 123, 'runoob']\n",
      "['abcd', 786, 2.23, 'runoob', 70.2, 123, 'runoob']\n"
     ]
    }
   ],
   "source": [
    "'''\n",
    "List 列表\n",
    "#列表是写在方括号 [] 之间、用逗号分隔开的元素列表。\n",
    "列表中元素的类型可以不相同，它支持数字，字符串甚至可以包含列表（所谓嵌套\n",
    "'''\n",
    "#!/usr/bin/python3\n",
    "\n",
    "list = [ 'abcd', 786 , 2.23, 'runoob', 70.2 ]\n",
    "tinylist = [123, 'runoob']\n",
    "\n",
    "print (list) # 输出完整列表\n",
    "print (list[0])   # 输出列表第一个元素\n",
    "print (list[1:3])    # 从第二个开始输出到第三个元素\n",
    "print (list[2:])  # 输出从第三个元素开始的所有元素\n",
    "print (tinylist * 2)  # 输出两次列表\n",
    "print (list + tinylist) # 连接列表\n"
   ]
  },
  {
   "cell_type": "code",
   "execution_count": 17,
   "metadata": {},
   "outputs": [
    {
     "name": "stdout",
     "output_type": "stream",
     "text": [
      "runoob like I\n"
     ]
    }
   ],
   "source": [
    "#与Python字符串不一样的是，列表中的元素是可以改变的：\n",
    "def reverseWords(input): \n",
    "# 通过空格将字符串分隔符，把各个单词分隔为列表\n",
    "    inputWords = input.split(\" \") \n",
    "# 翻转字符串\n",
    "# 假设列表 list = [1,2,3,4],  \n",
    "# list[0]=1, list[1]=2 ，而 -1 表示最后一个元素 list[-1]=4 ( 与 list[3]=4 一样) \n",
    "# inputWords[-1::-1] 有三个参数\n",
    "# 第一个参数 -1 表示最后一个元素\n",
    "# 第二个参数为空，表示移动到列表末尾\n",
    "# 第三个参数为步长，-1 表示逆向\n",
    "    inputWords=inputWords[-1::-1] \n",
    "# 重新组合字符串\n",
    "    output = ' '.join(inputWords) \n",
    "    return output \n",
    "\n",
    "if __name__ == \"__main__\": \n",
    "    input = 'I like runoob'\n",
    "    rw = reverseWords(input) \n",
    "    print(rw)"
   ]
  },
  {
   "cell_type": "code",
   "execution_count": 33,
   "metadata": {},
   "outputs": [
    {
     "name": "stdout",
     "output_type": "stream",
     "text": [
      "1 - c 的值为：12\n",
      "2 - c 的值为： 61\n",
      "3 - c 的值为： 49\n",
      "4 - c 的值为： -61\n",
      "5 - c 的值为： 240\n",
      "6 - c 的值为： 15\n"
     ]
    }
   ],
   "source": [
    "'''\n",
    "运算符\n",
    "'''\n",
    "a = 60            # 60 = 0011 1100 \n",
    "b = 13            # 13 = 0000 1101 \n",
    "c = 0\n",
    " \n",
    "c = a & b        # 12 = 0000 1100\n",
    "print (f\"1 - c 的值为：{c}\")\n",
    " \n",
    "c = a | b        # 61 = 0011 1101 \n",
    "print (\"2 - c 的值为：\", c)\n",
    " \n",
    "c = a ^ b        # 49 = 0011 0001\n",
    "print (\"3 - c 的值为：\", c)\n",
    " \n",
    "c = ~a           # -61 = 1100 0011\n",
    "print (\"4 - c 的值为：\", c)\n",
    " \n",
    "c = a << 2       # 240 = 1111 0000\n",
    "print (\"5 - c 的值为：\", c)\n",
    " \n",
    "c = a >> 2       # 15 = 0000 1111\n",
    "print (\"6 - c 的值为：\", c)"
   ]
  },
  {
   "cell_type": "code",
   "execution_count": 34,
   "metadata": {},
   "outputs": [
    {
     "name": "stdout",
     "output_type": "stream",
     "text": [
      "yes\n"
     ]
    }
   ],
   "source": [
    "'''\n",
    "逻辑判断\n",
    "'''\n",
    "x = True\n",
    "y = False\n",
    "z = False\n",
    " \n",
    "if x or y and z:\n",
    "    print(\"yes\")\n",
    "else:\n",
    "    print(\"no\")\n",
    "#先判断y and z；在判断 x与（y and z）的结果"
   ]
  },
  {
   "cell_type": "code",
   "execution_count": 106,
   "metadata": {},
   "outputs": [
    {
     "name": "stdout",
     "output_type": "stream",
     "text": [
      "3\n",
      "7598\n"
     ]
    }
   ],
   "source": [
    "'''\n",
    "随机数\n",
    "'''\n",
    "import random\n",
    "A=3.1415926\n",
    "print(round(A))\n",
    "print(random.randint(1000,9999))"
   ]
  },
  {
   "cell_type": "code",
   "execution_count": 42,
   "metadata": {},
   "outputs": [
    {
     "name": "stdout",
     "output_type": "stream",
     "text": [
      "var1[0]:  H\n",
      "var2[1:5]:  unoo\n",
      "已更新字符串 :  Hello Runoob!\n"
     ]
    }
   ],
   "source": [
    "'''\n",
    "字符串\n",
    "'''\n",
    "var1 = 'Hello World!'\n",
    "var2 = \"Runoob\"\n",
    " \n",
    "print (\"var1[0]: \", var1[0])\n",
    "print (\"var2[1:5]: \", var2[1:5])\n",
    "\n",
    " \n",
    "print (\"已更新字符串 : \", var1[:6] + 'Runoob!')"
   ]
  },
  {
   "cell_type": "code",
   "execution_count": 45,
   "metadata": {},
   "outputs": [
    {
     "name": "stdout",
     "output_type": "stream",
     "text": [
      "Hello \t World!\n",
      "Hello World!\n",
      "Hello \u000b World!\n",
      "Hello \f World!\n"
     ]
    }
   ],
   "source": [
    "'''\n",
    "输出格式\n",
    "'''\n",
    "print(\"Hello \\t World!\")##横向制表符\n",
    "print(\"Hello \\b World!\")\n",
    "print(\"Hello \\v World!\")#纵向制表符\n",
    "print(\"Hello \\f World!\")"
   ]
  },
  {
   "cell_type": "code",
   "execution_count": 47,
   "metadata": {},
   "outputs": [
    {
     "name": "stdout",
     "output_type": "stream",
     "text": [
      "100% "
     ]
    }
   ],
   "source": [
    "import time\n",
    "\n",
    "for i in range(101):\n",
    "    print(\"\\r{:3}%\".format(i),end=' ')#使用 \\r 实现百分比精度\n",
    "    time.sleep(0.05)"
   ]
  },
  {
   "cell_type": "code",
   "execution_count": 48,
   "metadata": {},
   "outputs": [
    {
     "name": "stdout",
     "output_type": "stream",
     "text": [
      "这是一个多行字符串的实例\n",
      "多行字符串可以使用制表符\n",
      "TAB ( \t )。\n",
      "也可以使用换行符 [ \n",
      " ]。\n",
      "\n"
     ]
    }
   ],
   "source": [
    "'''\n",
    "大段文字输入换行\n",
    "'''\n",
    "para_str = \"\"\"这是一个多行字符串的实例\n",
    "多行字符串可以使用制表符\n",
    "TAB ( \\t )。\n",
    "也可以使用换行符 [ \\n ]。\n",
    "\"\"\"\n",
    "print (para_str)"
   ]
  },
  {
   "cell_type": "code",
   "execution_count": 107,
   "metadata": {},
   "outputs": [
    {
     "name": "stdout",
     "output_type": "stream",
     "text": [
      "Hello Runoob\n",
      "3\n",
      "Runoob: www.runoob.com\n"
     ]
    }
   ],
   "source": [
    "name = 'Runoob'\n",
    "print(f'Hello {name}') # 替换变量\n",
    "\n",
    "print(f'{1+2}' )  # 使用表达式\n",
    "\n",
    "\n",
    "w = {'name': 'Runoob', 'url': 'www.runoob.com'}\n",
    "print(f'{w[\"name\"]}: {w[\"url\"]}')\n"
   ]
  },
  {
   "cell_type": "code",
   "execution_count": 51,
   "metadata": {},
   "outputs": [
    {
     "name": "stdout",
     "output_type": "stream",
     "text": [
      "第三个元素为 :  1997\n",
      "更新后的第三个元素为 :  2001\n",
      "更新后的列表 :  ['Google', 'Runoob', 'Taobao', 'Baidu']\n",
      "删除第三个元素 :  ['Google', 'Runoob', 2000]\n"
     ]
    }
   ],
   "source": [
    "'''\n",
    "列表操作\n",
    "'''\n",
    "list = ['Google', 'Runoob', 1997, 2000]\n",
    " \n",
    "print (\"第三个元素为 : \", list[2])\n",
    "list[2] = 2001\n",
    "print (\"更新后的第三个元素为 : \", list[2])\n",
    " \n",
    "list1 = ['Google', 'Runoob', 'Taobao']\n",
    "list1.append('Baidu')\n",
    "print (\"更新后的列表 : \", list1)\n",
    "\n",
    "\n",
    "del list[2]\n",
    "print (\"删除第三个元素 : \", list)"
   ]
  },
  {
   "cell_type": "code",
   "execution_count": 57,
   "metadata": {},
   "outputs": [
    {
     "name": "stdout",
     "output_type": "stream",
     "text": [
      "[['a', 'b', 'c'], [1, 2, 3]]\n",
      "[1, 2, 3]\n"
     ]
    }
   ],
   "source": [
    "a = ['a', 'b', 'c']\n",
    "n = [1, 2, 3]\n",
    "x = [a, n]\n",
    "print(x)\n",
    "print(x[1])\n"
   ]
  },
  {
   "cell_type": "code",
   "execution_count": 112,
   "metadata": {},
   "outputs": [
    {
     "name": "stdout",
     "output_type": "stream",
     "text": [
      "{'sape': 4139, 'guido': 4127, 'jack': 4098}\n",
      "{2: 4, 4: 16, 6: 36}\n",
      "tup[1:3]:('Runoob', 'Taobao')\n",
      "list[1:3]:['Runoob', 1997]\n"
     ]
    }
   ],
   "source": [
    "'''\n",
    "元组 :元组的元素不能修改：小括号可以没有\n",
    "列表 :列表中的元素是可以改变的\n",
    "字典 : 可变\n",
    "集合 : set1 = {1, 2, 3, 4}    大括号：可以用大括号({})创建集合\n",
    "注意：如果要创建一个空集合，你必须用 set() 而不是 {} ；后者创建一个空的字典\n",
    "'''\n",
    "tup = ('Google', 'Runoob', 'Taobao', 'Wiki', 'Weibo','Weixin')#元组\n",
    "list = ['Google', 'Runoob', 1997, 2000]#列表\n",
    "#字典创建方式\n",
    "tinydict = {'name': 'runoob', 'likes': 123, 'url': 'www.runoob.com'}#字典\n",
    "a=dict(sape=4139, guido=4127, jack=4098)\n",
    "print(a)\n",
    "print({x: x**2 for x in (2, 4, 6)})\n",
    "\n",
    "print(f\"tup[1:3]:{tup[1:3]}\")\n",
    "print(f\"list[1:3]:{list[1:3]}\")\n",
    "\n"
   ]
  },
  {
   "cell_type": "code",
   "execution_count": 78,
   "metadata": {},
   "outputs": [
    {
     "name": "stdout",
     "output_type": "stream",
     "text": [
      "{1, 2, 3, 4}\n",
      "{4, 5, 6, 7}\n",
      "{'pear', 'banana', 'apple', 'orange'}\n"
     ]
    }
   ],
   "source": [
    "'''集合'''\n",
    "set1 = {1, 2, 3, 4}            # 直接使用大括号创建集合\n",
    "set2 = set([4, 5, 6, 7])      # 使用 set() 函数从列表创建集合\n",
    "print(set1)\n",
    "print(set2)\n",
    "basket = {'apple', 'orange', 'apple', 'pear', 'orange', 'banana'}\n",
    "print(basket)  #输出结果去重复                \n"
   ]
  },
  {
   "cell_type": "code",
   "execution_count": 72,
   "metadata": {},
   "outputs": [
    {
     "name": "stdout",
     "output_type": "stream",
     "text": [
      "{'d', 'b', 'a', 'r', 'c'}\n",
      "{'a', 'l', 'c', 'z', 'm'}\n",
      "{'b', 'd', 'r'}\n",
      "{'d', 'l', 'm', 'b', 'z', 'r'}\n",
      "{'d', 'b', 'a', 'r', 'l', 'c', 'z', 'm'}\n"
     ]
    }
   ],
   "source": [
    "a = set('abracadabra')\n",
    "b = set('alacazam')\n",
    "print(a)\n",
    "print(b)\n",
    "print(a-b)\n",
    "print(a^b)\n",
    "print(a|b)"
   ]
  },
  {
   "cell_type": "code",
   "execution_count": 73,
   "metadata": {},
   "outputs": [
    {
     "name": "stdout",
     "output_type": "stream",
     "text": [
      "{'d', 'b', 'a', 'r', 'c'}\n",
      "{'d', 'r'}\n"
     ]
    }
   ],
   "source": [
    "print(a)\n",
    "a = {x for x in 'abracadabra' if x not in 'abc'}\n",
    "print(a)"
   ]
  },
  {
   "cell_type": "code",
   "execution_count": 87,
   "metadata": {},
   "outputs": [
    {
     "name": "stdout",
     "output_type": "stream",
     "text": [
      "{'Taobao', 'Runoob', 'Google'}\n",
      "{'Taobao', 'Runoob', 'Google'}\n",
      "{'Taobao', 'Runoob', 'Facebook', 'Google'}\n",
      "{1, 3, 'Facebook', 'Google', 'Taobao', 'Runoob'}\n",
      "{1, 3, 4, 5, 6, 'Runoob', 'Facebook', 'Google'}\n",
      "1\n"
     ]
    }
   ],
   "source": [
    "thisset = set([\"Google\", \"Runoob\", \"Taobao\"])\n",
    "a = set((\"Google\", \"Runoob\", \"Taobao\"))\n",
    "print(thisset)\n",
    "print(a)\n",
    "thisset.add(\"Facebook\")\n",
    "print(thisset)\n",
    "thisset.update({1,3})\n",
    "print(thisset)\n",
    "thisset.update([1,4],[5,6])  \n",
    "thisset.remove(\"Taobao\")\n",
    "print(thisset)\n",
    "x = thisset.pop()#随机化删除一个元素，并输出该元素\n",
    "print(x)"
   ]
  },
  {
   "cell_type": "code",
   "execution_count": 91,
   "metadata": {},
   "outputs": [
    {
     "name": "stdout",
     "output_type": "stream",
     "text": [
      "1 - if 表达式条件为 true\n",
      "1-var1的值为:100\n",
      "2-Good bye!\n"
     ]
    }
   ],
   "source": [
    "'''\n",
    "条件控制 \n",
    "if else elseif\n",
    "'''\n",
    "#!/usr/bin/python3\n",
    " \n",
    "var1 = 100\n",
    "if var1:\n",
    "    print (\"1 - if 表达式条件为 true\")\n",
    "    print (f\"1-var1的值为:{var1}\")\n",
    " \n",
    "var2 = 0\n",
    "if var2:\n",
    "    print (\"2 - if 表达式条件为 true\")\n",
    "    print (var2)\n",
    "print (\"2-Good bye!\")"
   ]
  },
  {
   "cell_type": "code",
   "execution_count": 97,
   "metadata": {},
   "outputs": [
    {
     "name": "stdout",
     "output_type": "stream",
     "text": [
      "\n",
      "对应人类年龄:  42\n"
     ]
    }
   ],
   "source": [
    "#if-elseif\n",
    " \n",
    "age = 6\n",
    "print(\"\")\n",
    "if age <= 0:\n",
    "    print(\"你是在逗我吧!\")\n",
    "elif age == 1:\n",
    "    print(\"相当于 14 岁的人。\")\n",
    "elif age == 2:\n",
    "    print(\"相当于 22 岁的人。\")\n",
    "elif age > 2:\n",
    "    human = 22 + (age -2)*5\n",
    "    print(\"对应人类年龄: \", human)\n"
   ]
  },
  {
   "cell_type": "code",
   "execution_count": 98,
   "metadata": {},
   "outputs": [
    {
     "name": "stdout",
     "output_type": "stream",
     "text": [
      "Bad request\n"
     ]
    }
   ],
   "source": [
    "#进阶版-match\n",
    "def http_error(status):\n",
    "    match status:\n",
    "        case 400:\n",
    "            return \"Bad request\"\n",
    "        case 404:\n",
    "            return \"Not found\"\n",
    "        case 418:\n",
    "            return \"I'm a teapot\"\n",
    "        case _:\n",
    "            return \"Something's wrong with the internet\"\n",
    "\n",
    "mystatus=400\n",
    "print(http_error(400))\n",
    "#一个 case 也可以设置多个匹配条件，条件使用 ｜ 隔开，例如：\n",
    "#case 401|403|404:\n",
    "        #return \"Not allowed\""
   ]
  },
  {
   "cell_type": "code",
   "execution_count": 100,
   "metadata": {},
   "outputs": [
    {
     "name": "stdout",
     "output_type": "stream",
     "text": [
      "1 到 100 之和为: 5050\n"
     ]
    }
   ],
   "source": [
    "'''\n",
    "循环语句\n",
    "for and while\n",
    "'''\n",
    "n = 100\n",
    " \n",
    "sum = 0\n",
    "counter = 1\n",
    "while counter <= n:\n",
    "    sum += counter\n",
    "    counter += 1 #python中的自增无法和c语言的”i++“形式\n",
    " \n",
    "print(\"1 到 %d 之和为: %d\" % (n,sum))"
   ]
  },
  {
   "cell_type": "code",
   "execution_count": 103,
   "metadata": {},
   "outputs": [
    {
     "name": "stdout",
     "output_type": "stream",
     "text": [
      "0  小于 5\n",
      "1  小于 5\n",
      "2  小于 5\n",
      "3  小于 5\n",
      "4  小于 5\n",
      "5  大于或等于 5\n"
     ]
    }
   ],
   "source": [
    " count = 0\n",
    "while count < 5:\n",
    "   print (count, \" 小于 5\")\n",
    "   count += 1\n",
    "else:\n",
    "   print (count, \" 大于或等于 5\")"
   ]
  },
  {
   "cell_type": "code",
   "execution_count": 104,
   "metadata": {},
   "outputs": [
    {
     "name": "stdout",
     "output_type": "stream",
     "text": [
      "Baidu\n",
      "Google\n",
      "Runoob\n",
      "Taobao\n"
     ]
    }
   ],
   "source": [
    "sites = [\"Baidu\", \"Google\",\"Runoob\",\"Taobao\"]\n",
    "for site in sites:\n",
    "    print(site)"
   ]
  }
 ],
 "metadata": {
  "kernelspec": {
   "display_name": "Python 3",
   "language": "python",
   "name": "python3"
  },
  "language_info": {
   "codemirror_mode": {
    "name": "ipython",
    "version": 3
   },
   "file_extension": ".py",
   "mimetype": "text/x-python",
   "name": "python",
   "nbconvert_exporter": "python",
   "pygments_lexer": "ipython3",
   "version": "3.11.4"
  },
  "orig_nbformat": 4
 },
 "nbformat": 4,
 "nbformat_minor": 2
}
